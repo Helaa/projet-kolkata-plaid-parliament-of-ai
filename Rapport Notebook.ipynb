{
 "cells": [
  {
   "cell_type": "markdown",
   "metadata": {},
   "source": [
    "# Kolkata IA Project "
   ]
  },
  {
   "cell_type": "code",
   "execution_count": null,
   "metadata": {},
   "outputs": [],
   "source": [
    "Menzli Hela\n",
    "Marzouki Amine\n",
    "Khiati Rezkellah Noureddine\n",
    "LU3IN025 - IA et Jeux  "
   ]
  },
  {
   "cell_type": "markdown",
   "metadata": {},
   "source": [
    "## Introduction "
   ]
  },
  {
   "cell_type": "markdown",
   "metadata": {},
   "source": [
    "On s'interesse a resoudre une variante du problème de minorité du bar El Farol, le probleme des restaurents de  Kolkata.\n",
    "Plusieurs joueurs (n), qui habitent dans le même quartier, souhaitent se rendre dans un des k restaurants du quartier. Une fois que leur choix est effectué, les joueurs se rendent dans le restaurant choisi. \n",
    "La règle est alors la suivante :\n",
    "\n",
    "- si un joueur est seul dans un restaurant, un plat lui est servi (gain = 1)\n",
    "- si plusieurs joueurs se trouvent dans un même restaurant, un joueur est choisi au hasard (de manière uniforme parmi tous les joueurs présents dans ce restaurant), et est servi (gain = 1). Les autres joueurs ne sont pas servis (gain = 0). Le jeu se déroule sur plusieurs itérations (m, fixé à l'avance).\n",
    "\n",
    "Partant du squelette et de la carte proposée; une carte qui comprend 6 restaurants, représentés par des pièces avec une table au fond, avec 10 joueurs (5 hommes, 5 femmes).\n",
    "Au début, les joueurs sont placés au hasard sur la carte, puis chacun se deplace* pour arriver a son restaurant. \n",
    "Le choix* de restuarant de chacun se fait selon une stratégie qui vise l'augmentation de son gain: qu'il sera servis une fois arrivé au restaurant de son choix."
   ]
  },
  {
   "cell_type": "markdown",
   "metadata": {},
   "source": [
    "## Le déplacement:"
   ]
  },
  {
   "cell_type": "markdown",
   "metadata": {},
   "source": [
    "Chaque joueur se rend au restaurant de son choix, en suivant le plus court chemin jusqu'au restaurant via l'exécution de l'algorithme A* implémenté dans le fichier "
   ]
  },
  {
   "cell_type": "raw",
   "metadata": {},
   "source": [
    "a_star.py"
   ]
  },
  {
   "cell_type": "markdown",
   "metadata": {},
   "source": [
    "## Le choix: les stratégies"
   ]
  },
  {
   "cell_type": "markdown",
   "metadata": {},
   "source": [
    "Le choix de restuarant de chaque joueur se fait selon comme expliqué selon une stratégie qui vise l'augmentation de son gain: qu'il sera servis une fois arrivé au restaurant. \n",
    "L'implémentation de ces stratégies se trouvent dans le fichier "
   ]
  },
  {
   "cell_type": "raw",
   "metadata": {},
   "source": [
    "Startegies.py"
   ]
  },
  {
   "cell_type": "markdown",
   "metadata": {},
   "source": [
    "- #### Une stratégie aléatoire uniforme: (RandomStrategy)\n",
    "Choisir un restaurant puremet au hasard."
   ]
  },
  {
   "cell_type": "markdown",
   "metadata": {},
   "source": [
    "- #### Une stratégie tétue: (StubbornStrategy)\n",
    "Choisir toujours le même restaurant."
   ]
  },
  {
   "cell_type": "markdown",
   "metadata": {},
   "source": [
    "- #### La stratégie du restaurant le plus proche: (Nearest Resto Strategy)\n",
    "Pour chaque joueur utilisant cette sratégie on identifie le retaurant le plus proche de sa position de départ et consistera ensuite en son choix (on se base sur une fonction de calcul de distance minimale qui searé un joueur et un restaurant)."
   ]
  },
  {
   "cell_type": "markdown",
   "metadata": {},
   "source": [
    "-  #### La stratégie du restaurent le moins occupé:  (Less Occupied Restaurant)\n",
    "Ca consiste au debut, pour chaque joueur utilisant cette stratégie, d'identifier son choix de restauant comme étant celui le plus proche de sa position initiale au debut, aprés le change en celui le moins occupé. "
   ]
  },
  {
   "cell_type": "markdown",
   "metadata": {},
   "source": [
    " ## Experimentations: "
   ]
  },
  {
   "cell_type": "markdown",
   "metadata": {},
   "source": [
    "Durant 1000 parties: On a fait jouer une équipe suivant une certaine stratégie vs une deuxieme contre  vs 2 teams. la simulation en temps réel se trouve dans le fichier"
   ]
  },
  {
   "cell_type": "raw",
   "metadata": {},
   "source": [
    "Simulations.py"
   ]
  },
  {
   "cell_type": "markdown",
   "metadata": {},
   "source": [
    "Un team= 5 joueurs partageant la meme stratégie. \n",
    "\n",
    "Résultats aprés 1000 parties:"
   ]
  },
  {
   "cell_type": "markdown",
   "metadata": {},
   "source": [
    "#### 1) Team Stubborn Vs Team Random:\n",
    "    - Taux de reusssite:\n",
    "            - Stubborn: 1000 / 1000 -> 100%\n",
    "            - Random:  0 / 1000 -> 0%   \n",
    "    - Gain des équipes: (somme des gains des joueurs de la meme équipe) \n",
    "            - Stubborn: 979\n",
    "            - Random: 36\n",
    "    - Moyenne de gain par partie : \n",
    "            - Stubborn: 0.979/5\n",
    "            - Random: 0.036/5\n",
    "    - Moyenne des restaurants occupés: 0.16849999999999907     "
   ]
  },
  {
   "cell_type": "markdown",
   "metadata": {},
   "source": [
    "On voit clairement que la stratégie tetue est beaucoup plus efficace que l'aléatoire.\n",
    "\n",
    "Mais on remarque aussi bien que pour les 2 stratégies sur une partie la moyenne du gain de chaque équipe est inferieure à 1.\n",
    "Ca vaut dire qu'à la fin d'une partie on se trouve avec pleins de restaurants vides (presque 5 sur 6) et pleins de joueurs non sevis."
   ]
  },
  {
   "cell_type": "markdown",
   "metadata": {},
   "source": [
    "#### 2) Team Less Occupied Restaurant Vs Team Random :\n",
    "    - Taux de reusssite:\n",
    "            - Random:  0 / 1000 -> 0% \n",
    "            - Less Occupied Restaurant: \t1000 / 1000 -> 100%\n",
    "    - Gain des équipes: (somme des gains des joueurs de la meme équipe) \n",
    "            - Random: 22 \n",
    "            - Less Occupied Restaurant: 3955\n",
    "    - Moyenne de gain par partie: \n",
    "            - Random: 0.022/5\n",
    "            - Less Occupied Restaurant: 3.955/5\n",
    "    - Moyenne des restaurants occupés: 0.6624999999999993 "
   ]
  },
  {
   "cell_type": "markdown",
   "metadata": {},
   "source": [
    "On remarque qu'ici y'a une stratégie qui domine, l'équart est plus élevé. La stratégie du restaurant le moins occupé est beaucoup plus efficace et augmente beaucoup plus la chance qu'un joueur soit servis vis a vis à la stratégie aléatoire.\n",
    "\n",
    "Cette fois ci on finis avec moins de restaurants vides a la fin d'une partie: ils sont pratiquement tous occupés. "
   ]
  },
  {
   "cell_type": "markdown",
   "metadata": {},
   "source": [
    "#### 3) Team Less Occupied Restaurant Vs Team Stubborn:\n",
    "    - Taux de reusssite:\n",
    "            - Stubborn: 0 / 1000 -> 0%\n",
    "            - Less Occupied Restaurant: 1000 / 1000 -> 100%\n",
    "    - Gain des équipes: (somme des gains des joueurs de la meme équipe) \n",
    "            - Stubborn: 769\n",
    "            - Less Occupied Restaurant: 3453\n",
    "    - Moyenne de gain par partie: \n",
    "            - Stubborn: 0.769 /5\n",
    "            - Less Occupied Restaurant: 3.453 /5\n",
    "    - Moyenne des restaurants occupés:  0.7126666666666658"
   ]
  },
  {
   "cell_type": "markdown",
   "metadata": {},
   "source": [
    "Comme dans la concurrence précédente, ici on voit bien l'écart entre les 2 stratégies et la domination de l'équipe de la stratégie du restaurant le moins occupé. Mais avec un poids un peu moins important (qui réexplique la difference entre la stratégie tetue et celle aléatoire"
   ]
  },
  {
   "cell_type": "markdown",
   "metadata": {},
   "source": [
    "#### 4) Team Nearest Restaurant Vs Team Random:\n",
    "    - Taux de reusssite:\n",
    "            - Nearest Restaurant: 1000 / 1000 -> 100%\n",
    "            - Random: 0 / 1000 -> 0%\n",
    "    - Gain des équipes: (somme des gains des joueurs de la meme équipe) \n",
    "            - Nearest Restaurant: 3350\n",
    "            - Random:28\n",
    "    - Moyenne de gain par partie: \n",
    "            - Nearest Restaurant: 3.35\n",
    "            - Random: 0.028\n",
    "    - Moyenne des restaurants occupés: 0.5646666666666678"
   ]
  },
  {
   "cell_type": "markdown",
   "metadata": {},
   "source": [
    "#### 5) Team Nearest Restaurant Vs Team Stubborn:\n",
    "    - Taux de reusssite:\n",
    "            - Nearest Restaurant:  0 / 1000 -> 0%\n",
    "            - Stubborn: 1000 / 1000 -> 100%\n",
    "    - Gain des équipes: (somme des gains des joueurs de la meme équipe) \n",
    "            - Nearest Restaurant: 2850\n",
    "            - Stubborn: 737\n",
    "    - Moyenne de gain par partie: \n",
    "            - Nearest Restaurant: 2.85\n",
    "            - Stubborn: 0.737\n",
    "    - Moyenne des restaurants occupés: 0.597833333333333"
   ]
  },
  {
   "cell_type": "markdown",
   "metadata": {},
   "source": [
    "Pour les 2 concurrences précédentes, on voit bien l'efficacité/ la faiblesse consecutives de la stratégie du restaurant le plus proches vs l'aleatoire-et-la-tetue."
   ]
  },
  {
   "cell_type": "markdown",
   "metadata": {},
   "source": [
    "#### 6) Team Nearest Restaurant Vs Team Less Occupied Restaurant:\n",
    "    - Taux de reusssite:\n",
    "            - Nearest Restaurant:  899 / 1000 -> 89%\n",
    "            - Team Less Occupied Restaurant: 101 / 1000 -> 10%\n",
    "    - Gain des équipes: (somme des gains des joueurs de la meme équipe) \n",
    "            - Nearest Restaurant:  2617\n",
    "            - Team Less Occupied Restaurant: 2567\n",
    "    - Moyenne de gain par partie: \n",
    "            - Nearest Restaurant:  2.617\n",
    "            - Team Less Occupied Restaurant: 2.567\n",
    "    - Moyenne des restaurants occupés: 0.8640000000000042"
   ]
  },
  {
   "cell_type": "markdown",
   "metadata": {},
   "source": [
    "La dominance quant au gain ici n'est plus remarquable, on se trouve devant deux strategies intélligentes, donc meme si on se trouve avec une équipe finalement gagnante, on se trouve aussi avec des gains qui se rapprochent et un taux d'occupation de  restaurants important. "
   ]
  },
  {
   "cell_type": "markdown",
   "metadata": {},
   "source": [
    "## Conclusion: "
   ]
  },
  {
   "cell_type": "markdown",
   "metadata": {},
   "source": [
    "L'intelligence d'un agent, joueurs/équipe, peut dépendre de trop de facteurs.\n",
    "Plus sont les facteurs étudiés; plus est le joueur/ l'équipe est informé de son environement plus il/elle a tendance a augementé son utilité. "
   ]
  }
 ],
 "metadata": {
  "kernelspec": {
   "display_name": "Python 3",
   "language": "python",
   "name": "python3"
  },
  "language_info": {
   "codemirror_mode": {
    "name": "ipython",
    "version": 3
   },
   "file_extension": ".py",
   "mimetype": "text/x-python",
   "name": "python",
   "nbconvert_exporter": "python",
   "pygments_lexer": "ipython3",
   "version": "3.8.0"
  }
 },
 "nbformat": 4,
 "nbformat_minor": 4
}

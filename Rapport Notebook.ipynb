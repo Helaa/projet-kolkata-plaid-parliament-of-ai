{
 "cells": [
  {
   "cell_type": "markdown",
   "metadata": {},
   "source": [
    "# Kolketa IA Project "
   ]
  },
  {
   "cell_type": "code",
   "execution_count": null,
   "metadata": {},
   "outputs": [],
   "source": [
    "Menzli Hela\n",
    "Marzouki Amine\n",
    "Khiati Rezkellah Noureddine\n",
    "LU3IN025 - IA et Jeux  "
   ]
  },
  {
   "cell_type": "markdown",
   "metadata": {},
   "source": [
    "### Introduction "
   ]
  },
  {
   "cell_type": "markdown",
   "metadata": {},
   "source": [
    "On s'interesse a resoudre une variante du problème de minorité du bar El Farol, le probleme des restaurents de  Kolkata.\n",
    "Plusieurs joueurs (n), qui habitent dans le même quartier, souhaitent se rendre dans un des k restaurants du quartier. Une fois que leur choix est effectué, les joueurs se rendent dans le restaurant choisi. \n",
    "La règle est alors la suivante :\n",
    "\n",
    "- si un joueur est seul dans un restaurant, un plat lui est servi (gain = 1)\n",
    "- si plusieurs joueurs se trouvent dans un même restaurant, un joueur est choisi au hasard (de manière uniforme parmi tous les joueurs présents dans ce restaurant), et est servi (gain = 1). Les autres joueurs ne sont pas servis (gain = 0). Le jeu se déroule sur plusieurs itérations (m, fixé à l'avance).\n",
    "\n",
    "Partant du squelette et de la carte proposée; une carte qui comprend 6 restaurants, représentés par des pièces avec une table au fond, avec 10 joueurs (5 hommes, 5 femmes).\n",
    "Au début, les joueurs sont placés au hasard sur la carte, puis chacun se deplace* pour arriver a son restaurant. \n",
    "Le choix* de restuarant de chacun se fait selon une stratégie qui vise l'augmentation de son gain: qu'il sera servis une fois arrivé au restaurant de son choix."
   ]
  },
  {
   "cell_type": "markdown",
   "metadata": {},
   "source": [
    "## Le déplacement:"
   ]
  },
  {
   "cell_type": "markdown",
   "metadata": {},
   "source": [
    "Chaque joueur se rend au restaurant de son choix, en suivant le plus court chemin jusqu'au restaurant via l'exécution de l'algorithme A* implémenté dans le fichier "
   ]
  },
  {
   "cell_type": "raw",
   "metadata": {},
   "source": [
    "a_star.py"
   ]
  },
  {
   "cell_type": "markdown",
   "metadata": {},
   "source": [
    "## Le choix: les stratégies"
   ]
  },
  {
   "cell_type": "markdown",
   "metadata": {},
   "source": [
    "Le choix de restuarant de chaque joueur se fait selon comme expliqué selon une stratégie qui vise l'augmentation de son gain: qu'il sera servis une fois arrivé au restaurant. \n",
    "L'implémentation de ces stratégies se trouvent dans le fichier "
   ]
  },
  {
   "cell_type": "raw",
   "metadata": {},
   "source": [
    "Startegies.py"
   ]
  },
  {
   "cell_type": "markdown",
   "metadata": {},
   "source": [
    "- #### Une stratégie aléatoire uniforme: (RandomStrategy)\n",
    "Choisir un restaurant puremet au hasard."
   ]
  },
  {
   "cell_type": "markdown",
   "metadata": {},
   "source": [
    "- #### Une stratégie tétue: (StubbornStrategy)\n",
    "Choisir toujours le même restaurant."
   ]
  },
  {
   "cell_type": "markdown",
   "metadata": {},
   "source": [
    "- #### La stratégie du restaurant le plus proche: (Nearest Resto Strategy)\n",
    "Pour chaque joueur utilisant cette sratégie on identifie le retaurant le plus proche de sa position de départ et consistera ensuite en son choix (on se base sur une fonction de calcul de distance minimale qui searé un joueur et un restaurant)."
   ]
  },
  {
   "cell_type": "markdown",
   "metadata": {},
   "source": [
    "-  #### La stratégie du restaurent le moins occupé:  (Less Occupied Restaurant)\n",
    "Ca consiste au debut, pour chaque joueur utilisant cette stratégie, d'identifier son choix de restauant comme étant celui le plus proche de sa position initiale au debut, aprés le change en celui le moins occupé. "
   ]
  },
  {
   "cell_type": "markdown",
   "metadata": {},
   "source": [
    " ## Experimentations: "
   ]
  },
  {
   "cell_type": "markdown",
   "metadata": {},
   "source": [
    "Durant 1000 parties: On a fait jouer une équipe suivant une certaine stratégie vs une deuxieme contre  vs 2 teams. la simulation en temps réel se trouve dans le fichier"
   ]
  },
  {
   "cell_type": "raw",
   "metadata": {},
   "source": [
    "Simulations.py"
   ]
  },
  {
   "cell_type": "markdown",
   "metadata": {},
   "source": [
    "Un team= 5 joueurs partageant la meme stratégie. \n",
    "\n",
    "Résultats aprés 1000 parties:"
   ]
  },
  {
   "cell_type": "markdown",
   "metadata": {},
   "source": [
    "#### 1) Team Stubborn Vs Team Random:\n",
    "    - L'équipe gagnante:  Less Occupied Restaurant Team\n",
    "    \n",
    "    - Gain des équipes: (somme des gains des joueurs de la meme équipe) \n",
    "            - Stubborn: 979\n",
    "            - Random: 36\n",
    "    - Moyenne de gain par partie : \n",
    "            - Stubborn: 0.979/5\n",
    "            - Random: 0.036/5"
   ]
  },
  {
   "cell_type": "markdown",
   "metadata": {},
   "source": [
    "#### 2) Team Random Vs Team Less Occupied Restaurant:\n",
    "    - L'équipe gagnante:  Less Occupied Restaurant Team\n",
    "    - Gain des équipes: (somme des gains des joueurs de la meme équipe) \n",
    "            - Random: 22 \n",
    "            - Less Occupied Restaurant: 3955\n",
    "    - Moyenne de gain par partie: \n",
    "            - Random: 0.022/5\n",
    "            - Less Occupied Restaurant: 3.955/5\n",
    "    \n",
    "    "
   ]
  },
  {
   "cell_type": "markdown",
   "metadata": {},
   "source": [
    "#### 3) Team Stubborn Vs Team Less Occupied Restaurant:\n",
    "    - L'équipe gagnante:  Less Occupied Restaurant Team\n",
    "    \n",
    "    - Gain des équipes: (somme des gains des joueurs de la meme équipe) \n",
    "            - Stubborn: 769\n",
    "            - Less Occupied Restaurant: 3453\n",
    "    - Moyenne de gain par partie: \n",
    "            - Stubborn: 0.769 /5\n",
    "            - Less Occupied Restaurant: 3.453 /5"
   ]
  },
  {
   "cell_type": "markdown",
   "metadata": {},
   "source": [
    "## Pour aller plus loin:"
   ]
  },
  {
   "cell_type": "markdown",
   "metadata": {},
   "source": [
    "#La performance d'une equipe par l'effectif d'une équipe"
   ]
  },
  {
   "cell_type": "code",
   "execution_count": null,
   "metadata": {},
   "outputs": [],
   "source": []
  }
 ],
 "metadata": {
  "kernelspec": {
   "display_name": "Python 3",
   "language": "python",
   "name": "python3"
  },
  "language_info": {
   "codemirror_mode": {
    "name": "ipython",
    "version": 3
   },
   "file_extension": ".py",
   "mimetype": "text/x-python",
   "name": "python",
   "nbconvert_exporter": "python",
   "pygments_lexer": "ipython3",
   "version": "3.8.0"
  }
 },
 "nbformat": 4,
 "nbformat_minor": 4
}
